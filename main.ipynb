{
 "cells": [
  {
   "cell_type": "code",
   "execution_count": 13,
   "id": "initial_id",
   "metadata": {
    "collapsed": true,
    "ExecuteTime": {
     "end_time": "2024-06-12T15:20:54.768925300Z",
     "start_time": "2024-06-12T15:20:54.174409Z"
    }
   },
   "outputs": [],
   "source": [
    "import pandas as pd\n",
    "\n",
    "avg_sq_m_cost_df = pd.read_csv('cena_za_m2.csv', sep=';')\n",
    "avg_surface = pd.read_csv('przec_pow_uz_mieszkania.csv', sep=';')\n",
    "slownik = pd.read_csv('slownik.csv', sep=';')"
   ]
  },
  {
   "cell_type": "code",
   "outputs": [
    {
     "data": {
      "text/plain": "   rowNumber  id_zmienna  id_przekroj  id_wymiar_1  id_pozycja_1  id_wymiar_2  \\\n0          1         222         1136            2         33617          734   \n1          2         222         1136            2         33617          734   \n2          3         222         1136            2         33617          734   \n3          4         222         1136            2         33617          734   \n4          5         222         1136            2         33617          734   \n5          6         222         1136            2         33617          734   \n6          7         222         1136            2         33617          734   \n7          8         222         1136            2         33617          734   \n8          9         222         1136            2         33617          734   \n9         10         222         1136            2         33617          734   \n\n   id_pozycja_2  id_wymiar_3   id_pozycja_3  id_wymiar_4  ...  id_pozycja_9  \\\n0       6649916          709        8199801          NaN  ...           NaN   \n1       6649916          709  8206516000529          NaN  ...           NaN   \n2       6649916          709  8210547000529          NaN  ...           NaN   \n3       6649916          709  8210555000529          NaN  ...           NaN   \n4       6649916          709  8213072000380          NaN  ...           NaN   \n5       6649918          709        8196758          NaN  ...           NaN   \n6       6649918          709        8201181          NaN  ...           NaN   \n7       6649918          709  8213463000529          NaN  ...           NaN   \n8       6649920          709        8201403          NaN  ...           NaN   \n9       6649920          709  8212326000095          NaN  ...           NaN   \n\n   id_okres  id_sposob_prezentacji_miara  id_daty  id_brak_wartosci  \\\n0       249                          180     2024               253   \n1       249                          180     2024               253   \n2       249                          180     2024               253   \n3       249                          180     2024               253   \n4       249                          180     2024               253   \n5       249                          180     2024               253   \n6       249                          180     2024               253   \n7       249                          180     2024               253   \n8       249                          180     2024               253   \n9       249                          180     2024               253   \n\n   id_tajnosci  id_flaga       wartosc  precyzja  Unnamed: 29  \n0           43        31   20226,00000         2          NaN  \n1           43        31    3348,00000         2          NaN  \n2           43        31   75622,00000         2          NaN  \n3           43        31  236630,00000         2          NaN  \n4           43        31   62471,00000         2          NaN  \n5           43        31  103832,00000         2          NaN  \n6           43        31    3297,00000         2          NaN  \n7           43        31  108939,00000         2          NaN  \n8           43        31   25538,00000         2          NaN  \n9           43        31     561,00000         2          NaN  \n\n[10 rows x 30 columns]",
      "text/html": "<div>\n<style scoped>\n    .dataframe tbody tr th:only-of-type {\n        vertical-align: middle;\n    }\n\n    .dataframe tbody tr th {\n        vertical-align: top;\n    }\n\n    .dataframe thead th {\n        text-align: right;\n    }\n</style>\n<table border=\"1\" class=\"dataframe\">\n  <thead>\n    <tr style=\"text-align: right;\">\n      <th></th>\n      <th>rowNumber</th>\n      <th>id_zmienna</th>\n      <th>id_przekroj</th>\n      <th>id_wymiar_1</th>\n      <th>id_pozycja_1</th>\n      <th>id_wymiar_2</th>\n      <th>id_pozycja_2</th>\n      <th>id_wymiar_3</th>\n      <th>id_pozycja_3</th>\n      <th>id_wymiar_4</th>\n      <th>...</th>\n      <th>id_pozycja_9</th>\n      <th>id_okres</th>\n      <th>id_sposob_prezentacji_miara</th>\n      <th>id_daty</th>\n      <th>id_brak_wartosci</th>\n      <th>id_tajnosci</th>\n      <th>id_flaga</th>\n      <th>wartosc</th>\n      <th>precyzja</th>\n      <th>Unnamed: 29</th>\n    </tr>\n  </thead>\n  <tbody>\n    <tr>\n      <th>0</th>\n      <td>1</td>\n      <td>222</td>\n      <td>1136</td>\n      <td>2</td>\n      <td>33617</td>\n      <td>734</td>\n      <td>6649916</td>\n      <td>709</td>\n      <td>8199801</td>\n      <td>NaN</td>\n      <td>...</td>\n      <td>NaN</td>\n      <td>249</td>\n      <td>180</td>\n      <td>2024</td>\n      <td>253</td>\n      <td>43</td>\n      <td>31</td>\n      <td>20226,00000</td>\n      <td>2</td>\n      <td>NaN</td>\n    </tr>\n    <tr>\n      <th>1</th>\n      <td>2</td>\n      <td>222</td>\n      <td>1136</td>\n      <td>2</td>\n      <td>33617</td>\n      <td>734</td>\n      <td>6649916</td>\n      <td>709</td>\n      <td>8206516000529</td>\n      <td>NaN</td>\n      <td>...</td>\n      <td>NaN</td>\n      <td>249</td>\n      <td>180</td>\n      <td>2024</td>\n      <td>253</td>\n      <td>43</td>\n      <td>31</td>\n      <td>3348,00000</td>\n      <td>2</td>\n      <td>NaN</td>\n    </tr>\n    <tr>\n      <th>2</th>\n      <td>3</td>\n      <td>222</td>\n      <td>1136</td>\n      <td>2</td>\n      <td>33617</td>\n      <td>734</td>\n      <td>6649916</td>\n      <td>709</td>\n      <td>8210547000529</td>\n      <td>NaN</td>\n      <td>...</td>\n      <td>NaN</td>\n      <td>249</td>\n      <td>180</td>\n      <td>2024</td>\n      <td>253</td>\n      <td>43</td>\n      <td>31</td>\n      <td>75622,00000</td>\n      <td>2</td>\n      <td>NaN</td>\n    </tr>\n    <tr>\n      <th>3</th>\n      <td>4</td>\n      <td>222</td>\n      <td>1136</td>\n      <td>2</td>\n      <td>33617</td>\n      <td>734</td>\n      <td>6649916</td>\n      <td>709</td>\n      <td>8210555000529</td>\n      <td>NaN</td>\n      <td>...</td>\n      <td>NaN</td>\n      <td>249</td>\n      <td>180</td>\n      <td>2024</td>\n      <td>253</td>\n      <td>43</td>\n      <td>31</td>\n      <td>236630,00000</td>\n      <td>2</td>\n      <td>NaN</td>\n    </tr>\n    <tr>\n      <th>4</th>\n      <td>5</td>\n      <td>222</td>\n      <td>1136</td>\n      <td>2</td>\n      <td>33617</td>\n      <td>734</td>\n      <td>6649916</td>\n      <td>709</td>\n      <td>8213072000380</td>\n      <td>NaN</td>\n      <td>...</td>\n      <td>NaN</td>\n      <td>249</td>\n      <td>180</td>\n      <td>2024</td>\n      <td>253</td>\n      <td>43</td>\n      <td>31</td>\n      <td>62471,00000</td>\n      <td>2</td>\n      <td>NaN</td>\n    </tr>\n    <tr>\n      <th>5</th>\n      <td>6</td>\n      <td>222</td>\n      <td>1136</td>\n      <td>2</td>\n      <td>33617</td>\n      <td>734</td>\n      <td>6649918</td>\n      <td>709</td>\n      <td>8196758</td>\n      <td>NaN</td>\n      <td>...</td>\n      <td>NaN</td>\n      <td>249</td>\n      <td>180</td>\n      <td>2024</td>\n      <td>253</td>\n      <td>43</td>\n      <td>31</td>\n      <td>103832,00000</td>\n      <td>2</td>\n      <td>NaN</td>\n    </tr>\n    <tr>\n      <th>6</th>\n      <td>7</td>\n      <td>222</td>\n      <td>1136</td>\n      <td>2</td>\n      <td>33617</td>\n      <td>734</td>\n      <td>6649918</td>\n      <td>709</td>\n      <td>8201181</td>\n      <td>NaN</td>\n      <td>...</td>\n      <td>NaN</td>\n      <td>249</td>\n      <td>180</td>\n      <td>2024</td>\n      <td>253</td>\n      <td>43</td>\n      <td>31</td>\n      <td>3297,00000</td>\n      <td>2</td>\n      <td>NaN</td>\n    </tr>\n    <tr>\n      <th>7</th>\n      <td>8</td>\n      <td>222</td>\n      <td>1136</td>\n      <td>2</td>\n      <td>33617</td>\n      <td>734</td>\n      <td>6649918</td>\n      <td>709</td>\n      <td>8213463000529</td>\n      <td>NaN</td>\n      <td>...</td>\n      <td>NaN</td>\n      <td>249</td>\n      <td>180</td>\n      <td>2024</td>\n      <td>253</td>\n      <td>43</td>\n      <td>31</td>\n      <td>108939,00000</td>\n      <td>2</td>\n      <td>NaN</td>\n    </tr>\n    <tr>\n      <th>8</th>\n      <td>9</td>\n      <td>222</td>\n      <td>1136</td>\n      <td>2</td>\n      <td>33617</td>\n      <td>734</td>\n      <td>6649920</td>\n      <td>709</td>\n      <td>8201403</td>\n      <td>NaN</td>\n      <td>...</td>\n      <td>NaN</td>\n      <td>249</td>\n      <td>180</td>\n      <td>2024</td>\n      <td>253</td>\n      <td>43</td>\n      <td>31</td>\n      <td>25538,00000</td>\n      <td>2</td>\n      <td>NaN</td>\n    </tr>\n    <tr>\n      <th>9</th>\n      <td>10</td>\n      <td>222</td>\n      <td>1136</td>\n      <td>2</td>\n      <td>33617</td>\n      <td>734</td>\n      <td>6649920</td>\n      <td>709</td>\n      <td>8212326000095</td>\n      <td>NaN</td>\n      <td>...</td>\n      <td>NaN</td>\n      <td>249</td>\n      <td>180</td>\n      <td>2024</td>\n      <td>253</td>\n      <td>43</td>\n      <td>31</td>\n      <td>561,00000</td>\n      <td>2</td>\n      <td>NaN</td>\n    </tr>\n  </tbody>\n</table>\n<p>10 rows × 30 columns</p>\n</div>"
     },
     "execution_count": 16,
     "metadata": {},
     "output_type": "execute_result"
    }
   ],
   "source": [
    "slownik.head(10)"
   ],
   "metadata": {
    "collapsed": false,
    "ExecuteTime": {
     "end_time": "2024-06-12T15:25:23.047445Z",
     "start_time": "2024-06-12T15:25:23.005102900Z"
    }
   },
   "id": "58b8f0993ad3425c",
   "execution_count": 16
  }
 ],
 "metadata": {
  "kernelspec": {
   "display_name": "Python 3",
   "language": "python",
   "name": "python3"
  },
  "language_info": {
   "codemirror_mode": {
    "name": "ipython",
    "version": 2
   },
   "file_extension": ".py",
   "mimetype": "text/x-python",
   "name": "python",
   "nbconvert_exporter": "python",
   "pygments_lexer": "ipython2",
   "version": "2.7.6"
  }
 },
 "nbformat": 4,
 "nbformat_minor": 5
}
